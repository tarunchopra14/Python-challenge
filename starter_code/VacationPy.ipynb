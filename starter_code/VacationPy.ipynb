{
 "cells": [
  {
   "cell_type": "markdown",
   "metadata": {
    "deletable": true,
    "editable": true
   },
   "source": [
    "# VacationPy\n",
    "----\n",
    "\n",
    "#### Note\n",
    "* Keep an eye on your API usage. Use https://developers.google.com/maps/reporting/gmp-reporting as reference for how to monitor your usage and billing.\n",
    "\n",
    "* Instructions have been included for each segment. You do not have to follow them exactly, but they are included to help you think through the steps."
   ]
  },
  {
   "cell_type": "code",
   "execution_count": 33,
   "metadata": {
    "collapsed": false,
    "deletable": true,
    "editable": true
   },
   "outputs": [],
   "source": [
    "# Dependencies and Setup\n",
    "import matplotlib.pyplot as plt\n",
    "import pandas as pd\n",
    "import numpy as np\n",
    "import requests\n",
    "import gmaps\n",
    "import os\n",
    "\n",
    "# Import API key\n",
    "from api_keys import g_key\n"
   ]
  },
  {
   "cell_type": "markdown",
   "metadata": {
    "deletable": true,
    "editable": true
   },
   "source": [
    "### Store Part I results into DataFrame\n",
    "* Load the csv exported in Part I to a DataFrame"
   ]
  },
  {
   "cell_type": "code",
   "execution_count": 34,
   "metadata": {
    "collapsed": false,
    "deletable": true,
    "editable": true,
    "scrolled": true
   },
   "outputs": [
    {
     "data": {
      "text/html": [
       "<div>\n",
       "<style scoped>\n",
       "    .dataframe tbody tr th:only-of-type {\n",
       "        vertical-align: middle;\n",
       "    }\n",
       "\n",
       "    .dataframe tbody tr th {\n",
       "        vertical-align: top;\n",
       "    }\n",
       "\n",
       "    .dataframe thead th {\n",
       "        text-align: right;\n",
       "    }\n",
       "</style>\n",
       "<table border=\"1\" class=\"dataframe\">\n",
       "  <thead>\n",
       "    <tr style=\"text-align: right;\">\n",
       "      <th></th>\n",
       "      <th>City</th>\n",
       "      <th>Lat</th>\n",
       "      <th>Lng</th>\n",
       "      <th>Max Temp</th>\n",
       "      <th>Humidity</th>\n",
       "      <th>Cloudiness</th>\n",
       "      <th>Wind Speed</th>\n",
       "      <th>Country</th>\n",
       "      <th>Date</th>\n",
       "    </tr>\n",
       "  </thead>\n",
       "  <tbody>\n",
       "    <tr>\n",
       "      <th>0</th>\n",
       "      <td>Champerico</td>\n",
       "      <td>14.3000</td>\n",
       "      <td>-91.9167</td>\n",
       "      <td>64.00</td>\n",
       "      <td>93</td>\n",
       "      <td>0</td>\n",
       "      <td>7.07</td>\n",
       "      <td>GT</td>\n",
       "      <td>1612662661</td>\n",
       "    </tr>\n",
       "    <tr>\n",
       "      <th>2</th>\n",
       "      <td>Tokonou</td>\n",
       "      <td>9.6500</td>\n",
       "      <td>-9.7833</td>\n",
       "      <td>71.20</td>\n",
       "      <td>23</td>\n",
       "      <td>22</td>\n",
       "      <td>3.69</td>\n",
       "      <td>GN</td>\n",
       "      <td>1612662732</td>\n",
       "    </tr>\n",
       "    <tr>\n",
       "      <th>3</th>\n",
       "      <td>Tsimmerbude</td>\n",
       "      <td>54.6750</td>\n",
       "      <td>20.1347</td>\n",
       "      <td>21.99</td>\n",
       "      <td>85</td>\n",
       "      <td>0</td>\n",
       "      <td>2.24</td>\n",
       "      <td>RU</td>\n",
       "      <td>1612662733</td>\n",
       "    </tr>\n",
       "    <tr>\n",
       "      <th>4</th>\n",
       "      <td>Chadiza</td>\n",
       "      <td>-14.0678</td>\n",
       "      <td>32.4392</td>\n",
       "      <td>64.38</td>\n",
       "      <td>98</td>\n",
       "      <td>100</td>\n",
       "      <td>1.07</td>\n",
       "      <td>ZM</td>\n",
       "      <td>1612662733</td>\n",
       "    </tr>\n",
       "    <tr>\n",
       "      <th>5</th>\n",
       "      <td>Vanimo</td>\n",
       "      <td>-2.6741</td>\n",
       "      <td>141.3028</td>\n",
       "      <td>82.62</td>\n",
       "      <td>78</td>\n",
       "      <td>99</td>\n",
       "      <td>4.07</td>\n",
       "      <td>PG</td>\n",
       "      <td>1612662735</td>\n",
       "    </tr>\n",
       "  </tbody>\n",
       "</table>\n",
       "</div>"
      ],
      "text/plain": [
       "          City      Lat       Lng  Max Temp  Humidity  Cloudiness  Wind Speed  \\\n",
       "0   Champerico  14.3000  -91.9167     64.00        93           0        7.07   \n",
       "2      Tokonou   9.6500   -9.7833     71.20        23          22        3.69   \n",
       "3  Tsimmerbude  54.6750   20.1347     21.99        85           0        2.24   \n",
       "4      Chadiza -14.0678   32.4392     64.38        98         100        1.07   \n",
       "5       Vanimo  -2.6741  141.3028     82.62        78          99        4.07   \n",
       "\n",
       "  Country        Date  \n",
       "0      GT  1612662661  \n",
       "2      GN  1612662732  \n",
       "3      RU  1612662733  \n",
       "4      ZM  1612662733  \n",
       "5      PG  1612662735  "
      ]
     },
     "execution_count": 34,
     "metadata": {},
     "output_type": "execute_result"
    }
   ],
   "source": [
    "cities_df = pd.read_csv('weather_output.csv')\n",
    "cities_df.dropna(inplace = True) \n",
    "cities_df.head()\n"
   ]
  },
  {
   "cell_type": "markdown",
   "metadata": {
    "deletable": true,
    "editable": true
   },
   "source": [
    "### Humidity Heatmap\n",
    "* Configure gmaps.\n",
    "* Use the Lat and Lng as locations and Humidity as the weight.\n",
    "* Add Heatmap layer to map."
   ]
  },
  {
   "cell_type": "code",
   "execution_count": 35,
   "metadata": {
    "collapsed": false,
    "deletable": true,
    "editable": true,
    "scrolled": true
   },
   "outputs": [
    {
     "data": {
      "text/plain": [
       "100"
      ]
     },
     "execution_count": 35,
     "metadata": {},
     "output_type": "execute_result"
    }
   ],
   "source": [
    "cities_df.count()\n",
    "cities_df[\"Humidity\"].max()\n"
   ]
  },
  {
   "cell_type": "code",
   "execution_count": 36,
   "metadata": {
    "collapsed": true,
    "deletable": true,
    "editable": true
   },
   "outputs": [],
   "source": [
    "# Configure gmaps\n",
    "gmaps.configure(api_key=g_key)"
   ]
  },
  {
   "cell_type": "code",
   "execution_count": 37,
   "metadata": {
    "collapsed": false,
    "deletable": true,
    "editable": true
   },
   "outputs": [],
   "source": [
    "# Store latitude and longitude in locations\n",
    "locations = cities_df[[\"Lat\",\"Lng\"]]\n",
    "\n",
    "# Fill NaN values and convert to int\n",
    "humidity = cities_df[\"Humidity\"]"
   ]
  },
  {
   "cell_type": "code",
   "execution_count": 38,
   "metadata": {
    "collapsed": false,
    "deletable": true,
    "editable": true
   },
   "outputs": [
    {
     "data": {
      "application/vnd.jupyter.widget-view+json": {
       "model_id": "e913af16727f41f490ddbef45d16decc",
       "version_major": 2,
       "version_minor": 0
      },
      "text/plain": [
       "Figure(layout=FigureLayout(height='420px'))"
      ]
     },
     "metadata": {},
     "output_type": "display_data"
    }
   ],
   "source": [
    "# Plot Heatmap\n",
    "fig = gmaps.figure()\n",
    "\n",
    "# Create heat layer\n",
    "heat_layer = gmaps.heatmap_layer(locations, weights=humidity, \n",
    "                                 dissipating=False, max_intensity=300,\n",
    "                                     point_radius=5)\n",
    "\n",
    "\n",
    "# Add layer\n",
    "fig.add_layer(heat_layer)\n",
    "\n",
    "\n",
    "# Display figure\n",
    "fig"
   ]
  },
  {
   "cell_type": "markdown",
   "metadata": {
    "deletable": true,
    "editable": true
   },
   "source": [
    "### Create new DataFrame fitting weather criteria\n",
    "* Narrow down the cities to fit weather conditions.\n",
    "* Drop any rows will null values."
   ]
  },
  {
   "cell_type": "code",
   "execution_count": 39,
   "metadata": {
    "collapsed": false,
    "deletable": true,
    "editable": true
   },
   "outputs": [
    {
     "data": {
      "text/html": [
       "<div>\n",
       "<style scoped>\n",
       "    .dataframe tbody tr th:only-of-type {\n",
       "        vertical-align: middle;\n",
       "    }\n",
       "\n",
       "    .dataframe tbody tr th {\n",
       "        vertical-align: top;\n",
       "    }\n",
       "\n",
       "    .dataframe thead th {\n",
       "        text-align: right;\n",
       "    }\n",
       "</style>\n",
       "<table border=\"1\" class=\"dataframe\">\n",
       "  <thead>\n",
       "    <tr style=\"text-align: right;\">\n",
       "      <th></th>\n",
       "      <th>City</th>\n",
       "      <th>Lat</th>\n",
       "      <th>Lng</th>\n",
       "      <th>Max Temp</th>\n",
       "      <th>Humidity</th>\n",
       "      <th>Cloudiness</th>\n",
       "      <th>Wind Speed</th>\n",
       "      <th>Country</th>\n",
       "      <th>Date</th>\n",
       "    </tr>\n",
       "  </thead>\n",
       "  <tbody>\n",
       "    <tr>\n",
       "      <th>0</th>\n",
       "      <td>Cockburn Town</td>\n",
       "      <td>21.4612</td>\n",
       "      <td>-71.1419</td>\n",
       "      <td>77.47</td>\n",
       "      <td>78</td>\n",
       "      <td>0</td>\n",
       "      <td>23.31</td>\n",
       "      <td>TC</td>\n",
       "      <td>1612662669</td>\n",
       "    </tr>\n",
       "    <tr>\n",
       "      <th>1</th>\n",
       "      <td>Hong Kong</td>\n",
       "      <td>22.2855</td>\n",
       "      <td>114.1577</td>\n",
       "      <td>73.00</td>\n",
       "      <td>46</td>\n",
       "      <td>0</td>\n",
       "      <td>11.01</td>\n",
       "      <td>HK</td>\n",
       "      <td>1612662757</td>\n",
       "    </tr>\n",
       "    <tr>\n",
       "      <th>2</th>\n",
       "      <td>General Pico</td>\n",
       "      <td>-35.6566</td>\n",
       "      <td>-63.7568</td>\n",
       "      <td>74.77</td>\n",
       "      <td>33</td>\n",
       "      <td>0</td>\n",
       "      <td>11.30</td>\n",
       "      <td>AR</td>\n",
       "      <td>1612662761</td>\n",
       "    </tr>\n",
       "    <tr>\n",
       "      <th>3</th>\n",
       "      <td>Marsh Harbour</td>\n",
       "      <td>26.5412</td>\n",
       "      <td>-77.0636</td>\n",
       "      <td>75.07</td>\n",
       "      <td>85</td>\n",
       "      <td>0</td>\n",
       "      <td>17.94</td>\n",
       "      <td>BS</td>\n",
       "      <td>1612662775</td>\n",
       "    </tr>\n",
       "    <tr>\n",
       "      <th>4</th>\n",
       "      <td>Barra Patuca</td>\n",
       "      <td>15.8000</td>\n",
       "      <td>-84.2833</td>\n",
       "      <td>78.33</td>\n",
       "      <td>83</td>\n",
       "      <td>0</td>\n",
       "      <td>14.97</td>\n",
       "      <td>HN</td>\n",
       "      <td>1612662792</td>\n",
       "    </tr>\n",
       "    <tr>\n",
       "      <th>5</th>\n",
       "      <td>Tumut</td>\n",
       "      <td>-35.3000</td>\n",
       "      <td>148.2167</td>\n",
       "      <td>77.00</td>\n",
       "      <td>47</td>\n",
       "      <td>0</td>\n",
       "      <td>12.66</td>\n",
       "      <td>AU</td>\n",
       "      <td>1612662801</td>\n",
       "    </tr>\n",
       "    <tr>\n",
       "      <th>6</th>\n",
       "      <td>Bariloche</td>\n",
       "      <td>-41.1456</td>\n",
       "      <td>-71.3082</td>\n",
       "      <td>75.20</td>\n",
       "      <td>29</td>\n",
       "      <td>0</td>\n",
       "      <td>11.50</td>\n",
       "      <td>AR</td>\n",
       "      <td>1612662804</td>\n",
       "    </tr>\n",
       "  </tbody>\n",
       "</table>\n",
       "</div>"
      ],
      "text/plain": [
       "            City      Lat       Lng  Max Temp  Humidity  Cloudiness  \\\n",
       "0  Cockburn Town  21.4612  -71.1419     77.47        78           0   \n",
       "1      Hong Kong  22.2855  114.1577     73.00        46           0   \n",
       "2   General Pico -35.6566  -63.7568     74.77        33           0   \n",
       "3  Marsh Harbour  26.5412  -77.0636     75.07        85           0   \n",
       "4   Barra Patuca  15.8000  -84.2833     78.33        83           0   \n",
       "5          Tumut -35.3000  148.2167     77.00        47           0   \n",
       "6      Bariloche -41.1456  -71.3082     75.20        29           0   \n",
       "\n",
       "   Wind Speed Country        Date  \n",
       "0       23.31      TC  1612662669  \n",
       "1       11.01      HK  1612662757  \n",
       "2       11.30      AR  1612662761  \n",
       "3       17.94      BS  1612662775  \n",
       "4       14.97      HN  1612662792  \n",
       "5       12.66      AU  1612662801  \n",
       "6       11.50      AR  1612662804  "
      ]
     },
     "execution_count": 39,
     "metadata": {},
     "output_type": "execute_result"
    }
   ],
   "source": [
    "# A max temperature lower than 80 degrees but higher than 70.\n",
    "# Wind speed less than 10 mph.\n",
    "# Zero cloudiness.\n",
    "# Drop any rows that don't contain all three conditions. You want to be sure the weather is ideal.\n",
    "\n",
    "narrowed_cities_df = cities_df.loc[(cities_df[\"Max Temp\"] > 70) & (cities_df[\"Max Temp\"] < 80) \\\n",
    "                                   & (cities_df[\"Cloudiness\"] == 0) \\\n",
    "                                   & (cities_df[\"Wind Speed\"] > 10)].dropna()\n",
    "# narrowed_cities_df = narrowed_cities_df.dropna(how='any')\n",
    "narrowed_cities_df.reset_index(inplace=True)\n",
    "del narrowed_cities_df['index']\n",
    "narrowed_cities_df"
   ]
  },
  {
   "cell_type": "markdown",
   "metadata": {
    "deletable": true,
    "editable": true
   },
   "source": [
    "## Hotel Map\n",
    "* Store into variable named `hotel_df`.\n",
    "* Add a \"Hotel Name\" column to the DataFrame.\n",
    "* Set parameters to search for hotels with 5000 meters.\n",
    "* Hit the Google Places API for each city's coordinates.\n",
    "* Store the first Hotel result into the DataFrame.\n",
    "* Plot markers on top of the heatmap."
   ]
  },
  {
   "cell_type": "code",
   "execution_count": 40,
   "metadata": {
    "collapsed": false,
    "deletable": true,
    "editable": true
   },
   "outputs": [
    {
     "data": {
      "text/html": [
       "<div>\n",
       "<style scoped>\n",
       "    .dataframe tbody tr th:only-of-type {\n",
       "        vertical-align: middle;\n",
       "    }\n",
       "\n",
       "    .dataframe tbody tr th {\n",
       "        vertical-align: top;\n",
       "    }\n",
       "\n",
       "    .dataframe thead th {\n",
       "        text-align: right;\n",
       "    }\n",
       "</style>\n",
       "<table border=\"1\" class=\"dataframe\">\n",
       "  <thead>\n",
       "    <tr style=\"text-align: right;\">\n",
       "      <th></th>\n",
       "      <th>City</th>\n",
       "      <th>Lat</th>\n",
       "      <th>Lng</th>\n",
       "      <th>Max Temp</th>\n",
       "      <th>Humidity</th>\n",
       "      <th>Cloudiness</th>\n",
       "      <th>Wind Speed</th>\n",
       "      <th>Country</th>\n",
       "      <th>Date</th>\n",
       "      <th>Hotel Name</th>\n",
       "    </tr>\n",
       "  </thead>\n",
       "  <tbody>\n",
       "    <tr>\n",
       "      <th>0</th>\n",
       "      <td>Cockburn Town</td>\n",
       "      <td>21.4612</td>\n",
       "      <td>-71.1419</td>\n",
       "      <td>77.47</td>\n",
       "      <td>78</td>\n",
       "      <td>0</td>\n",
       "      <td>23.31</td>\n",
       "      <td>TC</td>\n",
       "      <td>1612662669</td>\n",
       "      <td>Cockburn Town</td>\n",
       "    </tr>\n",
       "    <tr>\n",
       "      <th>1</th>\n",
       "      <td>Hong Kong</td>\n",
       "      <td>22.2855</td>\n",
       "      <td>114.1577</td>\n",
       "      <td>73.00</td>\n",
       "      <td>46</td>\n",
       "      <td>0</td>\n",
       "      <td>11.01</td>\n",
       "      <td>HK</td>\n",
       "      <td>1612662757</td>\n",
       "      <td>Hong Kong</td>\n",
       "    </tr>\n",
       "    <tr>\n",
       "      <th>2</th>\n",
       "      <td>General Pico</td>\n",
       "      <td>-35.6566</td>\n",
       "      <td>-63.7568</td>\n",
       "      <td>74.77</td>\n",
       "      <td>33</td>\n",
       "      <td>0</td>\n",
       "      <td>11.30</td>\n",
       "      <td>AR</td>\n",
       "      <td>1612662761</td>\n",
       "      <td>General Pico</td>\n",
       "    </tr>\n",
       "    <tr>\n",
       "      <th>3</th>\n",
       "      <td>Marsh Harbour</td>\n",
       "      <td>26.5412</td>\n",
       "      <td>-77.0636</td>\n",
       "      <td>75.07</td>\n",
       "      <td>85</td>\n",
       "      <td>0</td>\n",
       "      <td>17.94</td>\n",
       "      <td>BS</td>\n",
       "      <td>1612662775</td>\n",
       "      <td>Marsh Harbour</td>\n",
       "    </tr>\n",
       "    <tr>\n",
       "      <th>4</th>\n",
       "      <td>Barra Patuca</td>\n",
       "      <td>15.8000</td>\n",
       "      <td>-84.2833</td>\n",
       "      <td>78.33</td>\n",
       "      <td>83</td>\n",
       "      <td>0</td>\n",
       "      <td>14.97</td>\n",
       "      <td>HN</td>\n",
       "      <td>1612662792</td>\n",
       "      <td>Barra Patuca</td>\n",
       "    </tr>\n",
       "  </tbody>\n",
       "</table>\n",
       "</div>"
      ],
      "text/plain": [
       "            City      Lat       Lng  Max Temp  Humidity  Cloudiness  \\\n",
       "0  Cockburn Town  21.4612  -71.1419     77.47        78           0   \n",
       "1      Hong Kong  22.2855  114.1577     73.00        46           0   \n",
       "2   General Pico -35.6566  -63.7568     74.77        33           0   \n",
       "3  Marsh Harbour  26.5412  -77.0636     75.07        85           0   \n",
       "4   Barra Patuca  15.8000  -84.2833     78.33        83           0   \n",
       "\n",
       "   Wind Speed Country        Date     Hotel Name  \n",
       "0       23.31      TC  1612662669  Cockburn Town  \n",
       "1       11.01      HK  1612662757      Hong Kong  \n",
       "2       11.30      AR  1612662761   General Pico  \n",
       "3       17.94      BS  1612662775  Marsh Harbour  \n",
       "4       14.97      HN  1612662792   Barra Patuca  "
      ]
     },
     "execution_count": 40,
     "metadata": {},
     "output_type": "execute_result"
    }
   ],
   "source": [
    "hotel_df = []\n",
    "\n",
    "for hotel in range(len(narrowed_cities_df)):\n",
    "    lat = narrowed_cities_df.loc[hotel]['Lat']\n",
    "    lng = narrowed_cities_df.loc[hotel]['Lng']\n",
    "\n",
    "    params = {\n",
    "        \"location\": f\"{lat},{lng}\",\n",
    "        \"radius\": 5000,\n",
    "        \"types\" : \"hotel\",\n",
    "        \"key\": g_key\n",
    "    }\n",
    "    \n",
    "    base_url = \"https://maps.googleapis.com/maps/api/place/nearbysearch/json\"\n",
    "    response = requests.get(base_url, params=params)\n",
    "    hotels = response.json()\n",
    "    try:\n",
    "        hotel_df.append(hotels['results'][0]['name'])\n",
    "    except:\n",
    "        hotel_df.append(\"\")\n",
    "narrowed_cities_df[\"Hotel Name\"] = hotel_df\n",
    "narrowed_cities_df = narrowed_cities_df.dropna(how='any')\n",
    "narrowed_cities_df.head()"
   ]
  },
  {
   "cell_type": "code",
   "execution_count": null,
   "metadata": {
    "collapsed": true,
    "deletable": true,
    "editable": true
   },
   "outputs": [],
   "source": []
  },
  {
   "cell_type": "code",
   "execution_count": 41,
   "metadata": {
    "collapsed": false,
    "deletable": true,
    "editable": true
   },
   "outputs": [],
   "source": [
    "# NOTE: Do not change any of the code in this cell\n",
    "\n",
    "# Using the template add the hotel marks to the heatmap\n",
    "info_box_template = \"\"\"\n",
    "<dl>\n",
    "<dt>Name</dt><dd>{Hotel Name}</dd>\n",
    "<dt>City</dt><dd>{City}</dd>\n",
    "<dt>Country</dt><dd>{Country}</dd>\n",
    "</dl>\n",
    "\"\"\"\n",
    "# Store the DataFrame Row\n",
    "# NOTE: be sure to update with your DataFrame name\n",
    "hotel_info = [info_box_template.format(**row) for index, row in narrowed_cities_df.iterrows()]\n",
    "locations = narrowed_cities_df[[\"Lat\", \"Lng\"]]"
   ]
  },
  {
   "cell_type": "code",
   "execution_count": 42,
   "metadata": {
    "collapsed": false,
    "deletable": true,
    "editable": true
   },
   "outputs": [
    {
     "data": {
      "application/vnd.jupyter.widget-view+json": {
       "model_id": "5067446f9a0e4e91a416e5c9648a0c77",
       "version_major": 2,
       "version_minor": 0
      },
      "text/plain": [
       "Figure(layout=FigureLayout(border='1px solid black', height='600px', margin='0 auto 0 auto', padding='1px', wi…"
      ]
     },
     "metadata": {},
     "output_type": "display_data"
    }
   ],
   "source": [
    "# Add marker layer ontop of heat map\n",
    "\n",
    "figure_layout = {\n",
    "    'width': '900px',\n",
    "    'height': '600px',\n",
    "    'border': '1px solid black',\n",
    "    'padding': '1px',\n",
    "    'margin': '0 auto 0 auto'\n",
    "}\n",
    "fig = gmaps.figure(layout=figure_layout,zoom_level=2,center=(15,25))\n",
    "\n",
    "# Create hotel symbol layer\n",
    "hotel_layer = gmaps.marker_layer(\n",
    "    locations,info_box_content=[info_box_template.format(**row) for index, row in narrowed_cities_df.iterrows()]\n",
    ")\n",
    "\n",
    "\n",
    "# Add layer\n",
    "fig.add_layer(heat_layer)\n",
    "fig.add_layer(hotel_layer)\n",
    "# Display figure\n",
    "fig"
   ]
  },
  {
   "cell_type": "code",
   "execution_count": null,
   "metadata": {
    "collapsed": true,
    "deletable": true,
    "editable": true
   },
   "outputs": [],
   "source": []
  },
  {
   "cell_type": "code",
   "execution_count": null,
   "metadata": {
    "collapsed": true,
    "deletable": true,
    "editable": true
   },
   "outputs": [],
   "source": []
  }
 ],
 "metadata": {
  "kernelspec": {
   "display_name": "Python 3",
   "language": "python",
   "name": "python3"
  },
  "language_info": {
   "codemirror_mode": {
    "name": "ipython",
    "version": 3
   },
   "file_extension": ".py",
   "mimetype": "text/x-python",
   "name": "python",
   "nbconvert_exporter": "python",
   "pygments_lexer": "ipython3",
   "version": "3.6.10"
  },
  "latex_envs": {
   "LaTeX_envs_menu_present": true,
   "autoclose": false,
   "autocomplete": true,
   "bibliofile": "biblio.bib",
   "cite_by": "apalike",
   "current_citInitial": 1,
   "eqLabelWithNumbers": true,
   "eqNumInitial": 1,
   "hotkeys": {
    "equation": "Ctrl-E",
    "itemize": "Ctrl-I"
   },
   "labels_anchors": false,
   "latex_user_defs": false,
   "report_style_numbering": false,
   "user_envs_cfg": false
  }
 },
 "nbformat": 4,
 "nbformat_minor": 4
}
